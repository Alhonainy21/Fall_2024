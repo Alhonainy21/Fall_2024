{
 "cells": [
  {
   "cell_type": "code",
   "execution_count": 10,
   "id": "6603d3e0-7639-4505-a49e-0043ca32269c",
   "metadata": {
    "tags": []
   },
   "outputs": [
    {
     "name": "stdout",
     "output_type": "stream",
     "text": [
      "Now using CHI@Edge:\n",
      "URL: https://chi.edge.chameleoncloud.org\n",
      "Location: University of Chicago, Chicago, Illinois, USA\n",
      "Support contact: help@chameleoncloud.org\n"
     ]
    }
   ],
   "source": [
    "import chi\n",
    "# Before we go any further, we need to select which Chameleon site we will be using.\n",
    "chi.use_site(\"CHI@Edge\")"
   ]
  },
  {
   "cell_type": "code",
   "execution_count": null,
   "id": "8706873a-6b5e-4692-8783-8593a1ea6cf3",
   "metadata": {
    "tags": []
   },
   "outputs": [],
   "source": [
    "# !pip show python-chi"
   ]
  },
  {
   "cell_type": "code",
   "execution_count": 11,
   "id": "9663f55c-abfa-4991-a914-199f76374533",
   "metadata": {
    "tags": []
   },
   "outputs": [],
   "source": [
    "chi.set(\"project_name\", \"CHI-231126\")"
   ]
  },
  {
   "cell_type": "code",
   "execution_count": 12,
   "id": "bab1cc7c-57b7-48bf-a3ce-2b0a36d1a34b",
   "metadata": {
    "tags": []
   },
   "outputs": [],
   "source": [
    "from chi import container"
   ]
  },
  {
   "cell_type": "code",
   "execution_count": 14,
   "id": "4ff435d5-4db7-4e29-abac-43d7e2f96bf9",
   "metadata": {
    "tags": []
   },
   "outputs": [
    {
     "data": {
      "text/plain": [
       "<Container {'uuid': '7aa27653-6b07-4f6d-8f07-52bec7140adc', 'links': [{'href': 'http://chi.edge.chameleoncloud.org:9517/v1/containers/7aa27653-6b07-4f6d-8f07-52bec7140adc', 'rel': 'self'}, {'href': 'http://chi.edge.chameleoncloud.org:9517/containers/7aa27653-6b07-4f6d-8f07-52bec7140adc', 'rel': 'bookmark'}], 'name': 'jserver', 'project_id': '3ed50df152864b5b9bbebb1f6dc41817', 'user_id': '9d4ee9d7e72cd43e880cf9383cb064079021067e246a60387cce86073520e893', 'image': 'debian:11.6', 'cpu': 0.0, 'cpu_policy': 'shared', 'memory': '0', 'command': [], 'status': 'Running', 'status_reason': None, 'task_state': None, 'environment': {}, 'workdir': None, 'auto_remove': True, 'ports': [], 'hostname': None, 'labels': {}, 'addresses': {'db32fc77-deaa-4288-a480-17da94bbd5a1': [{'addr': '192.168.111.253', 'version': 4, 'port': '08bc1fb0-01f3-4d61-a7ea-ecaa010e91d9'}]}, 'restart_policy': {}, 'status_detail': None, 'interactive': True, 'tty': True, 'image_driver': 'docker', 'security_groups': ['188c2ce8-7bf0-4e96-811f-89fc1471d300'], 'disk': 0, 'auto_heal': False, 'healthcheck': {}, 'registry_id': None, 'entrypoint': []}>"
      ]
     },
     "execution_count": 14,
     "metadata": {},
     "output_type": "execute_result"
    }
   ],
   "source": [
    "chi.container.get_container(\"jserver\")"
   ]
  },
  {
   "cell_type": "code",
   "execution_count": null,
   "id": "f2520d62-d743-465f-a766-6f4b33c10587",
   "metadata": {
    "tags": []
   },
   "outputs": [],
   "source": [
    "chi.container.download(\"jserver\", \"/Den_fifo_server.pcap\", \"/work/fifo_files\")"
   ]
  },
  {
   "cell_type": "code",
   "execution_count": null,
   "id": "5e8e65d6-36cf-4bef-9331-961abe90d7bc",
   "metadata": {
    "tags": []
   },
   "outputs": [],
   "source": [
    "# zun_client = chi.zun()\n",
    "# containers = zun_client.containers.list()\n",
    "# for container in containers:\n",
    "#     print(f\"Container Name: {container.name}, Status: {container.status}\")"
   ]
  },
  {
   "cell_type": "code",
   "execution_count": null,
   "id": "b527eadc-c9fb-46e8-ab30-3664e0fe7336",
   "metadata": {},
   "outputs": [],
   "source": [
    "#scp user@<container_ip>:/fifo_d_server.txt /work/"
   ]
  },
  {
   "cell_type": "code",
   "execution_count": 26,
   "id": "bd13d337-9a2b-4c39-a223-c52f8ff41ed5",
   "metadata": {
    "tags": []
   },
   "outputs": [],
   "source": [
    "#!scp user@192.168.111.253:/fifo_d_server.txt /work"
   ]
  },
  {
   "cell_type": "code",
   "execution_count": null,
   "id": "afecb31a-1ee5-489b-906b-e1fccb8b7f85",
   "metadata": {
    "tags": []
   },
   "outputs": [],
   "source": [
    "# container = zun_client.containers.get(\"jserver\")\n",
    "# print(container.addresses)"
   ]
  },
  {
   "cell_type": "code",
   "execution_count": null,
   "id": "6aea96e6-475d-4974-8274-b068a8e57b5e",
   "metadata": {},
   "outputs": [],
   "source": [
    "# !pip index versions python-chi"
   ]
  },
  {
   "cell_type": "code",
   "execution_count": null,
   "id": "49273463-1984-4139-b5b9-1ebdac24bc54",
   "metadata": {
    "tags": []
   },
   "outputs": [],
   "source": [
    "# !sudo pip install python-chi==0.17.12"
   ]
  },
  {
   "cell_type": "code",
   "execution_count": null,
   "id": "2f99da8d-2347-4040-bd28-cf2c5c650d73",
   "metadata": {},
   "outputs": [],
   "source": []
  }
 ],
 "metadata": {
  "kernelspec": {
   "display_name": "Python 3 (ipykernel)",
   "language": "python",
   "name": "python3"
  },
  "language_info": {
   "codemirror_mode": {
    "name": "ipython",
    "version": 3
   },
   "file_extension": ".py",
   "mimetype": "text/x-python",
   "name": "python",
   "nbconvert_exporter": "python",
   "pygments_lexer": "ipython3",
   "version": "3.10.9"
  }
 },
 "nbformat": 4,
 "nbformat_minor": 5
}
